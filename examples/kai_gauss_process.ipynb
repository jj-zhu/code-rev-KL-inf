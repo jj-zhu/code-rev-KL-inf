{
 "cells": [
  {
   "cell_type": "code",
   "execution_count": 1,
   "metadata": {},
   "outputs": [],
   "source": [
    "import torch\n",
    "import math\n",
    "from ksddescent import ksdd_lbfgs, ksdd_gradient\n",
    "from ksddescent.contenders import svgd, mmd_lbfgs\n",
    "import matplotlib.pyplot as plt\n",
    "import numpy as np"
   ]
  },
  {
   "cell_type": "markdown",
   "metadata": {},
   "source": [
    "Run KSD descent"
   ]
  },
  {
   "cell_type": "code",
   "execution_count": 2,
   "metadata": {},
   "outputs": [],
   "source": [
    "def score(x):\n",
    "    return -x / 0.3\n",
    "\n",
    "\n",
    "def potential(x):\n",
    "    return (x ** 2).sum(dim=1)\n",
    "\n",
    "\n",
    "# seems to be the target\n",
    "def sampler(n_points):\n",
    "    return math.sqrt(0.3) * torch.randn(n_points, 2)\n",
    "\n",
    "\n",
    "n_samples = 50\n",
    "p = 2 # dimension\n",
    "\n",
    "# inital samples\n",
    "# x = 1.5 + torch.randn(n_samples, p) / 3\n",
    "x = 0.25 + torch.randn(n_samples, p) / 3 # make closer\n",
    "\n",
    "bw = 0.1\n",
    "x_ksd, ksd_traj, _ = ksdd_lbfgs(x.clone(), score, bw=bw, store=True)\n",
    "\n",
    "x_grad, grad_traj, _ = ksdd_gradient(x.clone(), score, 0.3, bw=bw, store=True)\n",
    "\n"
   ]
  },
  {
   "cell_type": "code",
   "execution_count": 3,
   "metadata": {},
   "outputs": [
    {
     "name": "stdout",
     "output_type": "stream",
     "text": [
      "Shape of the result: torch.Size([200, 2])\n",
      "First few values of the reparameterized score:\n",
      "tensor([[ 1.1491,  1.6833],\n",
      "        [-1.8682, -1.2144],\n",
      "        [-0.3956,  1.5890],\n",
      "        [ 0.4300,  0.0060],\n",
      "        [-2.3358, -2.8225]])\n"
     ]
    }
   ],
   "source": [
    "epsilon = torch.randn(200, p) # random samples, used for reparameterization trick\n",
    "\n",
    "# Define parameters for the Gaussian distribution\n",
    "m = torch.tensor([0.0, 0.0])  # mean\n",
    "L = torch.tensor([[0.5, 0.0], [0.1, 0.4]])  # lower triangular matrix for covariance\n",
    "\n",
    "x = m + torch.matmul(L, epsilon.T).T # reparameterized samples\n",
    "\n",
    "score_reparam = score(x)\n",
    "\n",
    "print(\"Shape of the result:\", score_reparam.shape)\n",
    "print(\"First few values of the reparameterized score:\")\n",
    "print(score_reparam[:5])\n"
   ]
  },
  {
   "cell_type": "code",
   "execution_count": 4,
   "metadata": {},
   "outputs": [
    {
     "name": "stderr",
     "output_type": "stream",
     "text": [
      "/var/folders/f6/8vzd7z213t58mr4nsz9bys0w0000gn/T/ipykernel_39812/1968699959.py:2: UserWarning: To copy construct from a tensor, it is recommended to use sourceTensor.clone().detach() or sourceTensor.clone().detach().requires_grad_(True), rather than torch.tensor(sourceTensor).\n",
      "  m = torch.tensor(m, dtype=torch.float32, requires_grad=True)\n",
      "/var/folders/f6/8vzd7z213t58mr4nsz9bys0w0000gn/T/ipykernel_39812/1968699959.py:3: UserWarning: To copy construct from a tensor, it is recommended to use sourceTensor.clone().detach() or sourceTensor.clone().detach().requires_grad_(True), rather than torch.tensor(sourceTensor).\n",
      "  L = torch.tensor(L, dtype=torch.float32, requires_grad=True)\n"
     ]
    }
   ],
   "source": [
    "# mimic a torch function\n",
    "m = torch.tensor(m, dtype=torch.float32, requires_grad=True)\n",
    "L = torch.tensor(L, dtype=torch.float32, requires_grad=True)\n",
    "\n",
    "epsilon = torch.randn(n_samples, p)\n",
    "x = m + torch.matmul(L, epsilon.T).T\n",
    "scores_x = score(x)\n"
   ]
  },
  {
   "cell_type": "code",
   "execution_count": 5,
   "metadata": {},
   "outputs": [
    {
     "name": "stdout",
     "output_type": "stream",
     "text": [
      "Shape of x: torch.Size([50, 2])\n",
      "First few rows of x:\n",
      "tensor([[-0.4085,  0.7478],\n",
      "        [ 0.0366, -0.4171],\n",
      "        [-0.6829, -0.2770],\n",
      "        [ 0.2629,  0.2298],\n",
      "        [ 0.4967,  0.2998]], grad_fn=<SliceBackward0>)\n"
     ]
    }
   ],
   "source": [
    "\n",
    "# Check the shape of x\n",
    "print(\"Shape of x:\", x.shape)\n",
    "\n",
    "# Optionally, you can also print the first few rows of x\n",
    "print(\"First few rows of x:\")\n",
    "print(x[:5])\n"
   ]
  },
  {
   "cell_type": "code",
   "execution_count": 6,
   "metadata": {},
   "outputs": [],
   "source": [
    "from ksddescent.kernels import (imq_kernel, gaussian_stein_kernel_single,\n",
    "                      linear_stein_kernel)"
   ]
  },
  {
   "cell_type": "code",
   "execution_count": 7,
   "metadata": {},
   "outputs": [],
   "source": [
    "\n",
    "kernel = 'gaussian'\n",
    "if kernel == 'gaussian':\n",
    "    stein_kernel = gaussian_stein_kernel_single(x, scores_x, bw)\n",
    "elif kernel == 'imq':\n",
    "    stein_kernel = imq_kernel(x, x, scores_x, scores_x, bw, beta=beta)\n",
    "else:\n",
    "    stein_kernel = linear_stein_kernel(x, x, scores_x, scores_x)"
   ]
  },
  {
   "cell_type": "code",
   "execution_count": 8,
   "metadata": {},
   "outputs": [
    {
     "name": "stdout",
     "output_type": "stream",
     "text": [
      "Shape of stein_kernel: torch.Size([50, 50])\n",
      "First 5x5 elements of stein_kernel:\n",
      "tensor([[28.0682, -0.0801, -0.4649, -2.0623, -0.7056],\n",
      "        [-0.0801, 21.9482, -3.4489, -4.1625, -2.0698],\n",
      "        [-0.4649, -3.4489, 26.0347, -0.4304, -0.0387],\n",
      "        [-2.0623, -4.1625, -0.4304, 21.3548, 10.6021],\n",
      "        [-0.7056, -2.0698, -0.0387, 10.6021, 23.7397]],\n",
      "       grad_fn=<SliceBackward0>)\n"
     ]
    }
   ],
   "source": [
    "# Check the size of stein_kernel\n",
    "print(\"Shape of stein_kernel:\", stein_kernel.shape)\n",
    "\n",
    "# Optionally, print a small subset of the kernel matrix\n",
    "print(\"First 5x5 elements of stein_kernel:\")\n",
    "print(stein_kernel[:5, :5])\n"
   ]
  },
  {
   "cell_type": "code",
   "execution_count": 9,
   "metadata": {},
   "outputs": [],
   "source": [
    "loss_list = [] # mimic the loss list\n",
    "\n",
    "loss = stein_kernel.sum() / n_samples ** 2\n",
    "loss.backward()\n",
    "loss_list.append(loss.item())"
   ]
  },
  {
   "cell_type": "markdown",
   "metadata": {},
   "source": [
    "### now do back prop / gradient descent to the parameters m, L, which are torch tensors"
   ]
  },
  {
   "cell_type": "code",
   "execution_count": 16,
   "metadata": {},
   "outputs": [],
   "source": [
    "# mimic\n",
    "verbose=True\n",
    "\n",
    "step = 0.3\n",
    "\n",
    "n = None"
   ]
  },
  {
   "cell_type": "code",
   "execution_count": 17,
   "metadata": {},
   "outputs": [],
   "source": [
    "i = 0"
   ]
  },
  {
   "cell_type": "code",
   "execution_count": 18,
   "metadata": {},
   "outputs": [
    {
     "name": "stdout",
     "output_type": "stream",
     "text": [
      "0 0.5850788354873657\n"
     ]
    }
   ],
   "source": [
    "if verbose and i % 100 == 0:\n",
    "    print(i, loss.item())\n",
    "\n",
    "# Perform gradient descent on m and L\n",
    "with torch.no_grad():\n",
    "    # Update m\n",
    "    m -= step * m.grad\n",
    "    \n",
    "    # Update L\n",
    "    L -= step * L.grad\n",
    "    \n",
    "    # Apply additional adjustments if needed\n",
    "    if n is not None:\n",
    "        m -= n\n",
    "        L -= n\n",
    "\n",
    "    # TODO: not clear how clamp should be applied here\n",
    "    # # Clamp values if clamp range is specified\n",
    "    # if clamp is not None:\n",
    "    #     m.clamp_(clamp[0], clamp[1])\n",
    "    #     L.clamp_(clamp[0], clamp[1])\n",
    "    \n",
    "    # Reset the gradients to zero for the next iteration\n",
    "    m.grad.zero_()\n",
    "    L.grad.zero_()\n"
   ]
  },
  {
   "cell_type": "code",
   "execution_count": 20,
   "metadata": {},
   "outputs": [
    {
     "name": "stdout",
     "output_type": "stream",
     "text": [
      "m: tensor([-0.0357, -0.3346], requires_grad=True)\n",
      "L: tensor([[ 0.9849, -0.3436],\n",
      "        [-0.0779,  1.2969]], requires_grad=True)\n"
     ]
    }
   ],
   "source": [
    "print(\"m:\", m)\n",
    "print(\"L:\", L)"
   ]
  },
  {
   "cell_type": "code",
   "execution_count": null,
   "metadata": {},
   "outputs": [],
   "source": [
    "# Explanation of m and L in the context of Gaussian distribution\n",
    "\n",
    "# m represents the mean vector of the Gaussian distribution\n",
    "# In a multivariate Gaussian, m is a vector that defines the center of the distribution\n",
    "# Each element of m corresponds to the mean of one dimension of the distribution\n",
    "\n",
    "# L represents the lower triangular matrix of the Cholesky decomposition of the covariance matrix\n",
    "# The covariance matrix Σ can be decomposed as Σ = L * L^T\n",
    "# L is used instead of Σ directly because:\n",
    "#   1. It ensures the covariance matrix remains positive definite\n",
    "#   2. It reduces the number of parameters to optimize (L has n(n+1)/2 elements vs n^2 for Σ)\n",
    "#   3. It allows for more numerically stable computations\n",
    "\n",
    "# Together, m and L fully parameterize a multivariate Gaussian distribution\n",
    "# This parameterization is often used in optimization tasks because:\n",
    "#   - It guarantees a valid (positive definite) covariance matrix\n",
    "#   - It's more efficient than working with the full covariance matrix\n",
    "\n",
    "print(\"m (mean vector):\", m)\n",
    "print(\"L (Cholesky factor of covariance):\", L)\n",
    "\n",
    "# To get the full covariance matrix, you would compute:\n",
    "cov = L @ L.T\n",
    "print(\"Covariance matrix:\", cov)\n",
    "\n",
    "# The Gaussian distribution defined by these parameters would be:\n",
    "# N(x | m, L * L^T)\n"
   ]
  },
  {
   "cell_type": "code",
   "execution_count": 21,
   "metadata": {},
   "outputs": [
    {
     "data": {
      "image/png": "[encoded data removed]",
      "text/plain": [
       "<Figure size 1000x800 with 2 Axes>"
      ]
     },
     "metadata": {},
     "output_type": "display_data"
    }
   ],
   "source": [
    "# Visualize the Gaussian distribution\n",
    "import matplotlib.pyplot as plt\n",
    "import numpy as np\n",
    "\n",
    "# Create a grid of points\n",
    "x = np.linspace(-5, 5, 100)\n",
    "y = np.linspace(-5, 5, 100)\n",
    "X, Y = np.meshgrid(x, y)\n",
    "\n",
    "# Prepare the grid points as a 2D tensor\n",
    "grid = torch.tensor(np.column_stack([X.ravel(), Y.ravel()]), dtype=torch.float32)\n",
    "\n",
    "# Compute the PDF of the Gaussian distribution\n",
    "mean = m.detach().numpy()\n",
    "cov = (L @ L.T).detach().numpy()\n",
    "Z = np.zeros_like(X)\n",
    "\n",
    "for i in range(X.shape[0]):\n",
    "    for j in range(X.shape[1]):\n",
    "        point = np.array([X[i, j], Y[i, j]])\n",
    "        Z[i, j] = np.exp(-0.5 * (point - mean) @ np.linalg.inv(cov) @ (point - mean)) / (2 * np.pi * np.sqrt(np.linalg.det(cov)))\n",
    "\n",
    "# Plot the contours of the Gaussian distribution\n",
    "plt.figure(figsize=(10, 8))\n",
    "plt.contourf(X, Y, Z, levels=20, cmap='viridis')\n",
    "plt.colorbar(label='Probability Density')\n",
    "plt.title('Gaussian Distribution: N(x | m, L * L^T)')\n",
    "plt.xlabel('X')\n",
    "plt.ylabel('Y')\n",
    "\n",
    "# Plot the mean point\n",
    "plt.scatter(mean[0], mean[1], color='red', s=100, label='Mean')\n",
    "plt.legend()\n",
    "\n",
    "plt.show()\n"
   ]
  },
  {
   "cell_type": "code",
   "execution_count": null,
   "metadata": {},
   "outputs": [],
   "source": []
  },
  {
   "cell_type": "code",
   "execution_count": null,
   "metadata": {},
   "outputs": [],
   "source": []
  },
  {
   "cell_type": "code",
   "execution_count": null,
   "metadata": {},
   "outputs": [],
   "source": []
  },
  {
   "cell_type": "code",
   "execution_count": null,
   "metadata": {},
   "outputs": [],
   "source": []
  },
  {
   "cell_type": "code",
   "execution_count": null,
   "metadata": {},
   "outputs": [],
   "source": []
  },
  {
   "cell_type": "code",
   "execution_count": null,
   "metadata": {},
   "outputs": [],
   "source": []
  },
  {
   "cell_type": "code",
   "execution_count": null,
   "metadata": {},
   "outputs": [],
   "source": [
    "def ksdd_lbfgs_gaussian(x0, score, kernel='gaussian', bw=1.,\n",
    "                        max_iter=10000, tol=1e-12, beta=.5,\n",
    "                        store=False, verbose=False):\n",
    "    '''Kernel Stein Discrepancy descent with L-BFGS for Gaussian parameters\n",
    "\n",
    "    Perform Kernel Stein Discrepancy descent with L-BFGS on Gaussian parameters.\n",
    "    L-BFGS is a fast and robust algorithm, that has no\n",
    "    critical hyper-parameter.\n",
    "\n",
    "    Parameters\n",
    "    ----------\n",
    "    x0 : torch.tensor, size n_samples x n_features\n",
    "        initial positions\n",
    "\n",
    "    score : callable\n",
    "        function that computes the score\n",
    "\n",
    "    kernel : 'gaussian' or 'imq'\n",
    "        which kernel to choose\n",
    "\n",
    "    max_iter : int\n",
    "        max number of iters\n",
    "\n",
    "    bw : float\n",
    "        bandwidth of the stein kernel\n",
    "\n",
    "    tol : float\n",
    "        stopping criterion for L-BFGS\n",
    "\n",
    "    store : bool\n",
    "        whether to store the iterates\n",
    "\n",
    "    verbose: bool\n",
    "        whether to print the current loss\n",
    "\n",
    "    Returns\n",
    "    -------\n",
    "    x: torch.tensor, size n_samples x n_features\n",
    "        The final positions\n",
    "    '''\n",
    "    n_samples, p = x0.shape\n",
    "    \n",
    "    # Initialize mean and covariance\n",
    "    m = torch.mean(x0, dim=0).numpy()\n",
    "    S = torch.cov(x0.T)\n",
    "    L = torch.linalg.cholesky(S).numpy()\n",
    "    \n",
    "    params = np.concatenate([m, L.ravel()])\n",
    "\n",
    "    if store:\n",
    "        class callback_store():\n",
    "            def __init__(self):\n",
    "                self.mem = []\n",
    "                self.timer = []\n",
    "\n",
    "            def __call__(self, params):\n",
    "                self.mem.append(np.copy(params))\n",
    "                self.timer.append(len(self.mem))\n",
    "\n",
    "            def get_output(self):\n",
    "                return self.mem, self.timer\n",
    "        callback = callback_store()\n",
    "    else:\n",
    "        callback = None\n",
    "\n",
    "    def loss_and_grad(params):\n",
    "        m, L = params[:p], params[p:].reshape(p, p)\n",
    "        m = torch.tensor(m, dtype=torch.float32, requires_grad=True)\n",
    "        L = torch.tensor(L, dtype=torch.float32, requires_grad=True)\n",
    "        \n",
    "        epsilon = torch.randn(n_samples, p)\n",
    "        x = m + torch.matmul(L, epsilon.T).T\n",
    "        scores_x = score(x)\n",
    "        \n",
    "        if kernel == 'gaussian':\n",
    "            stein_kernel = gaussian_stein_kernel_single(x, scores_x, bw)\n",
    "        elif kernel == 'imq':\n",
    "            stein_kernel = imq_kernel(x, x, scores_x, scores_x, bw, beta=beta)\n",
    "        else:\n",
    "            stein_kernel = linear_stein_kernel(x, x, scores_x, scores_x)\n",
    "        \n",
    "        loss = stein_kernel.sum()\n",
    "        loss.backward()\n",
    "        \n",
    "        grad_m = m.grad.numpy()\n",
    "        grad_L = L.grad.numpy()\n",
    "        grad = np.concatenate([grad_m, grad_L.ravel()])\n",
    "        \n",
    "        return loss.item(), np.float64(grad)\n",
    "\n",
    "    params, f, d = fmin_l_bfgs_b(loss_and_grad, params, maxiter=max_iter,\n",
    "                                 factr=tol, epsilon=1e-12, pgtol=1e-10,\n",
    "                                 callback=callback)\n",
    "    if verbose:\n",
    "        print('Took %d iterations, loss = %.2e' % (d['nit'], f))\n",
    "    \n",
    "    m_final, L_final = params[:p], params[p:].reshape(p, p)\n",
    "    m_final = torch.tensor(m_final, dtype=torch.float32)\n",
    "    L_final = torch.tensor(L_final, dtype=torch.float32)\n",
    "    \n",
    "    epsilon = torch.randn(n_samples, p)\n",
    "    x_final = m_final + torch.matmul(L_final, epsilon.T).T\n",
    "    \n",
    "    if store:\n",
    "        storage, timer = callback.get_output()\n",
    "        return x_final, storage, timer, (m_final, L_final)\n",
    "    return x_final, (m_final, L_final)"
   ]
  },
  {
   "cell_type": "code",
   "execution_count": null,
   "metadata": {},
   "outputs": [],
   "source": [
    "# Call the ksdd_lbfgs_gaussian function for updating Gaussians\n",
    "x_ksd_gaussian, ksd_gaussian_traj, (m_final, L_final) = ksdd_lbfgs_gaussian(\n",
    "    x.clone(),\n",
    "    score,\n",
    "    kernel='gaussian',\n",
    "    bw=bw,\n",
    "    max_iter=10000,\n",
    "    tol=1e-12,\n",
    "    store=True,\n",
    "    verbose=True\n",
    ")\n",
    "\n",
    "# Print the results\n",
    "print(\"Final mean:\", m_final)\n",
    "print(\"Final L (Cholesky of covariance):\", L_final)\n",
    "\n",
    "# Plot the results\n",
    "plt.figure(figsize=(4, 4))\n",
    "plt.scatter(x[:, 0], x[:, 1], s=3, color=\"green\", label=\"Initial\")\n",
    "plt.scatter(x_ksd_gaussian[:, 0], x_ksd_gaussian[:, 1], s=3, color=\"red\", label=\"KSD Gaussian\")\n",
    "plt.legend()\n",
    "plt.title(\"KSD L-BFGS with Gaussian Reparameterization\")\n",
    "plt.show()\n",
    "\n",
    "# Compare with the original KSD L-BFGS results\n",
    "plt.figure(figsize=(8, 4))\n",
    "plt.subplot(1, 2, 1)\n",
    "plt.scatter(x[:, 0], x[:, 1], s=3, color=\"green\", label=\"Initial\")\n",
    "plt.scatter(x_ksd[:, 0], x_ksd[:, 1], s=3, color=\"blue\", label=\"KSD L-BFGS\")\n",
    "plt.legend()\n",
    "plt.title(\"Original KSD L-BFGS\")\n",
    "\n",
    "plt.subplot(1, 2, 2)\n",
    "plt.scatter(x[:, 0], x[:, 1], s=3, color=\"green\", label=\"Initial\")\n",
    "plt.scatter(x_ksd_gaussian[:, 0], x_ksd_gaussian[:, 1], s=3, color=\"red\", label=\"KSD Gaussian\")\n",
    "plt.legend()\n",
    "plt.title(\"KSD L-BFGS with Gaussian Reparameterization\")\n",
    "\n",
    "plt.tight_layout()\n",
    "plt.show()\n"
   ]
  },
  {
   "cell_type": "code",
   "execution_count": null,
   "metadata": {},
   "outputs": [],
   "source": []
  },
  {
   "cell_type": "code",
   "execution_count": null,
   "metadata": {},
   "outputs": [],
   "source": []
  },
  {
   "cell_type": "code",
   "execution_count": null,
   "metadata": {},
   "outputs": [],
   "source": [
    "# Check the dimensions of x and the output of score(x)\n",
    "print(\"Input x shape:\", x.shape)\n",
    "score_output = score(x)\n",
    "print(\"Score output shape:\", score_output.shape)\n",
    "\n",
    "# Optionally, you can also print a few values to verify the content\n",
    "print(\"\\nFirst few values of x:\")\n",
    "print(x[:5])\n",
    "print(\"\\nFirst few values of score(x):\")\n",
    "print(score_output[:5])"
   ]
  },
  {
   "cell_type": "code",
   "execution_count": null,
   "metadata": {},
   "outputs": [],
   "source": [
    "# Define the new KSD L-BFGS algorithm with Gaussian reparameterization\n",
    "def ksdd_lbfgs_gaussian(x0, score, kernel='gaussian', bw=1.,\n",
    "                        max_iter=10000, tol=1e-12, beta=.5,\n",
    "                        store=False, verbose=False):\n",
    "    n_samples, p = x0.shape\n",
    "    \n",
    "    # Initialize mean and covariance\n",
    "    m = torch.mean(x0, dim=0)\n",
    "    S = torch.cov(x0.T)\n",
    "    L = torch.linalg.cholesky(S)\n",
    "    \n",
    "    def reparameterized_score(params):\n",
    "        m, L = params[:p], params[p:].reshape(p, p)\n",
    "        epsilon = torch.randn(n_samples, p)\n",
    "        x = m + torch.matmul(L, epsilon.T).T\n",
    "        return score(x)\n",
    "    \n",
    "    params = torch.cat([m.flatten(), L.flatten()])\n",
    "    \n",
    "    ### FIXME: Something is wrong with this line \n",
    "    # mimic the particle inference case\n",
    "    result = ksdd_lbfgs(params.unsqueeze(0), reparameterized_score, kernel=kernel, bw=bw,\n",
    "                        max_iter=max_iter, tol=tol, beta=beta,\n",
    "                        store=store, verbose=verbose)\n",
    "    \n",
    "    if store:\n",
    "        output, storage, timer = result\n",
    "        m_final, L_final = output[0, :p], output[0, p:].reshape(p, p)\n",
    "        epsilon = torch.randn(n_samples, p)\n",
    "        x_final = m_final + torch.matmul(L_final, epsilon.T).T\n",
    "        \n",
    "        def reconstruct(params):\n",
    "            m, L = params[0, :p], params[0, p:].reshape(p, p)\n",
    "            epsilon = torch.randn(n_samples, p)\n",
    "            return m + torch.matmul(L, epsilon.T).T\n",
    "        \n",
    "        storage = [reconstruct(s.unsqueeze(0)) for s in storage]\n",
    "        return x_final, storage, (m_final, L_final)\n",
    "    else:\n",
    "        m_final, L_final = result[0, :p], result[0, p:].reshape(p, p)\n",
    "        epsilon = torch.randn(n_samples, p)\n",
    "        x_final = m_final + torch.matmul(L_final, epsilon.T).T\n",
    "        return x_final\n",
    "\n",
    "# Run the new algorithm\n",
    "x_ksd_gaussian, ksd_gaussian_traj, (m_final, L_final) = ksdd_lbfgs_gaussian(x.clone(), score, bw=bw, store=True)\n"
   ]
  },
  {
   "cell_type": "code",
   "execution_count": null,
   "metadata": {},
   "outputs": [],
   "source": [
    "\n",
    "# Plot the trajectory of Gaussian measures\n",
    "plt.figure(figsize=(6, 6))\n",
    "traj = np.array([x.detach().numpy() for x in ksd_gaussian_traj])\n",
    "plt.plot(traj[:, :, 0], traj[:, :, 1], c=\"k\", alpha=0.2, linewidth=0.5)\n",
    "plt.scatter(x[:, 0], x[:, 1], s=3, color=\"green\", zorder=1, label=\"Initial\")\n",
    "plt.scatter(x_ksd_gaussian[:, 0], x_ksd_gaussian[:, 1], s=3, c=\"blue\", zorder=10, label=\"Final\")\n",
    "\n",
    "# Plot contours for initial, intermediate, and final Gaussian measures\n",
    "colors = ['green', 'orange', 'blue']\n",
    "alphas = [0.3, 0.5, 0.7]\n",
    "for i, step in enumerate([0, len(ksd_gaussian_traj) // 2, -1]):\n",
    "    m = ksd_gaussian_traj[step].mean(dim=0).detach().numpy()\n",
    "    S = torch.cov(ksd_gaussian_traj[step].T).detach().numpy()\n",
    "    \n",
    "    x_, y_ = np.mgrid[-3:3:.01, -3:3:.01]\n",
    "    pos = np.dstack((x_, y_))\n",
    "    rv = multivariate_normal(m, S)\n",
    "    plt.contour(x_, y_, rv.pdf(pos), levels=5, colors=colors[i], alpha=alphas[i])\n",
    "\n",
    "plt.legend()\n",
    "plt.title(\"KSD L-BFGS with Gaussian Reparameterization\")\n",
    "plt.xlabel(\"x\")\n",
    "plt.ylabel(\"y\")\n",
    "plt.show()\n",
    "\n",
    "# Add the new results to the comparison\n",
    "x_ksd_gaussian_final = x_ksd_gaussian.detach()\n",
    "labels.append(\"KSD Gaussian\")\n",
    "methods.append(\"ksd_gaussian\")\n",
    "colors.append(\"cyan\")\n",
    "\n"
   ]
  },
  {
   "cell_type": "code",
   "execution_count": null,
   "metadata": {},
   "outputs": [],
   "source": [
    "# run the other algorithms\n",
    "\n",
    "x_svgd, svgd_traj, _ = svgd(\n",
    "    x.clone(), score, 0.5, bw=bw, store=True, verbose=True\n",
    ")\n",
    "\n",
    "x_mmd, mmd_traj, _ = mmd_lbfgs(\n",
    "    x.clone(), sampler(100 * n_samples), bw=bw, store=True\n",
    ")"
   ]
  },
  {
   "cell_type": "code",
   "execution_count": null,
   "metadata": {},
   "outputs": [],
   "source": [
    "# plot the results\n",
    "\n",
    "labels = [\"KSD L-BFGS\", \"KSD Grad\", \"SVGD\", \"MMD\"]\n",
    "methods = [\"bfgs\", \"grad\", \"svgd\", \"mmd\"]\n",
    "colors = [\"blue\", \"purple\", \"orange\", \"red\"]\n",
    "for x_final, traj, label, color, method in zip(\n",
    "    [x_ksd, x_grad, x_svgd, x_mmd],\n",
    "    [ksd_traj, grad_traj, svgd_traj, mmd_traj],\n",
    "    labels,\n",
    "    colors,\n",
    "    methods,\n",
    "):\n",
    "    plt.figure(figsize=(2, 2))\n",
    "    traj = np.array([x.detach().numpy() for x in traj])\n",
    "    if method == \"mmd\":\n",
    "        alpha = 0.2\n",
    "    else:\n",
    "        alpha = 0.2\n",
    "    plt.plot(traj[:, :, 0], traj[:, :, 1], c=\"k\", alpha=alpha, linewidth=0.5)\n",
    "    s = 3\n",
    "    plt.scatter(x[:, 0], x[:, 1], s=s, color=\"green\", zorder=1)\n",
    "\n",
    "    x_final = x_final.detach()\n",
    "    plt.scatter(\n",
    "        x_final[:, 0], x_final[:, 1], label=label, s=s, c=color, zorder=10\n",
    "    )\n",
    "    plt.legend()\n",
    "\n",
    "    x_ = np.linspace(-1.2, 3)\n",
    "    y_ = np.linspace(-1.2, 3)\n",
    "    X, Y = np.meshgrid(x_, y_)\n",
    "    XX = torch.tensor(np.array([X.ravel(), Y.ravel()]).T)\n",
    "    Z = potential(XX).reshape(X.shape).detach().numpy()\n",
    "\n",
    "    plt.contour(X, Y, Z, levels=10, colors=\"k\")\n",
    "    plt.tick_params(\n",
    "        axis=\"both\",\n",
    "        which=\"both\",\n",
    "        bottom=False,\n",
    "        top=False,\n",
    "        labelbottom=False,\n",
    "        left=False,\n",
    "        right=False,\n",
    "        labelleft=False,\n",
    "    )\n",
    "    plt.xlim(min(x_), max(x_))\n",
    "    plt.ylim(min(y_), max(y_))\n",
    "plt.show()"
   ]
  },
  {
   "cell_type": "code",
   "execution_count": null,
   "metadata": {},
   "outputs": [],
   "source": [
    "# Now construct a new algorithm that is basically the KSD L-BFGS,\n",
    "# but the underlying measure \n",
    "# $\\mu$ is Gaussian, we can employ the reparametrization trick to enable direct differentiation with respect to the mean and covariance parameters. Let $\\mu = \\mathcal{N}(m, \\Sigma)$, and express $x \\sim \\mu$ as $x = m + L\\epsilon$, where $L$ is the Cholesky decomposition of $\\Sigma$ (i.e., $LL^\\top = \\Sigma$) and $\\epsilon \\sim \\mathcal{N}(0, I)$."
   ]
  },
  {
   "cell_type": "code",
   "execution_count": null,
   "metadata": {},
   "outputs": [],
   "source": [
    "\n"
   ]
  }
 ],
 "metadata": {
  "kernelspec": {
   "display_name": "mmd-flow",
   "language": "python",
   "name": "python3"
  },
  "language_info": {
   "codemirror_mode": {
    "name": "ipython",
    "version": 3
   },
   "file_extension": ".py",
   "mimetype": "text/x-python",
   "name": "python",
   "nbconvert_exporter": "python",
   "pygments_lexer": "ipython3",
   "version": "3.11.7"
  }
 },
 "nbformat": 4,
 "nbformat_minor": 2
}
